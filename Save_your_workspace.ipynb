{
 "cells": [
  {
   "cell_type": "code",
   "execution_count": 1,
   "metadata": {},
   "outputs": [
    {
     "name": "stdout",
     "output_type": "stream",
     "text": [
      "['-rw-r--r-- 1 root root 9475673 Apr  4 01:18 C5W1A3.tar.xz']\n",
      "Your workspace has been saved into C5W1A3.tar.xz. You may download the same.\n"
     ]
    }
   ],
   "source": [
    "#BEGIN\n",
    "!tar -czf C5W1A3.tar.xz *\n",
    "file_data = !ls -l C5W1A3.tar.xz \n",
    "file_size = int(file_data.s.split()[4])\n",
    "print(file_data)\n",
    "if file_size > 50*1024*1024:\n",
    "    !split -b 50m C5W1A3.tar.xz C5W1A3.tar.part.\n",
    "    print(\"As the file size is > 50 MB, the file has been split into parts. Look for file names with *part* and download them individually.\")\n",
    "else:\n",
    "    print(\"Your workspace has been saved into C5W1A3.tar.xz. You may download the same.\")\n",
    "#END"
   ]
  },
  {
   "cell_type": "code",
   "execution_count": null,
   "metadata": {},
   "outputs": [],
   "source": []
  }
 ],
 "metadata": {
  "kernelspec": {
   "display_name": "Python 3",
   "language": "python",
   "name": "python3"
  },
  "language_info": {
   "codemirror_mode": {
    "name": "ipython",
    "version": 3
   },
   "file_extension": ".py",
   "mimetype": "text/x-python",
   "name": "python",
   "nbconvert_exporter": "python",
   "pygments_lexer": "ipython3",
   "version": "3.6.9"
  }
 },
 "nbformat": 4,
 "nbformat_minor": 2
}
